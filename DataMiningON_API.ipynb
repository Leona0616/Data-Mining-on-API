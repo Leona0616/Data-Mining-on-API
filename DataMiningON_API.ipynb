{
 "cells": [
  {
   "cell_type": "code",
   "execution_count": 1,
   "metadata": {},
   "outputs": [
    {
     "name": "stdout",
     "output_type": "stream",
     "text": [
      "http://interface.gtlrenewable.com.au/Alpha/GetData.php?sn=AL2002017080059&starttime=2019-07-12,00:00:00&endtime=2019-07-13,00:00:00\n",
      "Timeout Error: HTTPConnectionPool(host='interface.gtlrenewable.com.au', port=80): Read timed out. (read timeout=3)\n",
      "http://interface.gtlrenewable.com.au/Alpha/GetData.php?sn=AL2002017080059&starttime=2019-07-13,00:00:00&endtime=2019-07-14,00:00:00\n",
      "http://interface.gtlrenewable.com.au/Alpha/GetData.php?sn=AL2002017080059&starttime=2019-07-14,00:00:00&endtime=2019-07-15,00:00:00\n",
      "NEXT SN\n",
      "http://interface.gtlrenewable.com.au/Alpha/GetData.php?sn=AL2002017100054&starttime=2019-07-12,00:00:00&endtime=2019-07-13,00:00:00\n",
      "Timeout Error: HTTPConnectionPool(host='interface.gtlrenewable.com.au', port=80): Read timed out. (read timeout=3)\n",
      "http://interface.gtlrenewable.com.au/Alpha/GetData.php?sn=AL2002017100054&starttime=2019-07-13,00:00:00&endtime=2019-07-14,00:00:00\n",
      "Timeout Error: HTTPConnectionPool(host='interface.gtlrenewable.com.au', port=80): Read timed out. (read timeout=3)\n",
      "http://interface.gtlrenewable.com.au/Alpha/GetData.php?sn=AL2002017100054&starttime=2019-07-14,00:00:00&endtime=2019-07-15,00:00:00\n",
      "NEXT SN\n",
      "Loop Done\n"
     ]
    }
   ],
   "source": [
    "import time\n",
    "import datetime\n",
    "from datetime import timedelta, date\n",
    "import requests\n",
    "import json\n",
    "import csv\n",
    "import urllib.parse\n",
    "import pandas as pd\n",
    "import numpy as np\n",
    "\n",
    "SN = [\"AL2002017080059\", \"AL2002017100054\"]\n",
    "limittime = datetime.datetime.strptime(\"2019-07-15\", \"%Y-%m-%d\")\n",
    "\n",
    "for sn in SN:\n",
    "    starttime = datetime.datetime.strptime(\"2019-07-11\", \"%Y-%m-%d\")\n",
    "    endtime = datetime.datetime.strptime(\"2019-07-12\", \"%Y-%m-%d\")\n",
    "    main_api = \"http://interface.gtlrenewable.com.au/Alpha/GetData.php?\"\n",
    "    changed_api = \"sn={}\"\n",
    "    append_api = \"&starttime={}&endtime={}\"\n",
    "    \n",
    "    while True:\n",
    "        starttime = starttime + datetime.timedelta(days=1)\n",
    "        endtime = endtime + datetime.timedelta(days=1)\n",
    "        #url = URL_pattern.format(starttime,endtime)\n",
    "        url_loo = main_api+changed_api.format(sn)+append_api.format(starttime.strftime(\"%Y-%m-%d,%H:%M:%S\"),endtime.strftime(\"%Y-%m-%d,%H:%M:%S\"))\n",
    "        print(url_loo)\n",
    "        \n",
    "        try:\n",
    "            r = requests.get(url_loo,timeout=3)\n",
    "            r.raise_for_status()\n",
    "        except requests.exceptions.HTTPError as errh:\n",
    "            print (\"Http Error:\",errh)\n",
    "        except requests.exceptions.ConnectionError as errc:\n",
    "            print (\"Error Connecting:\",errc)\n",
    "        except requests.exceptions.Timeout as errt:\n",
    "            print (\"Timeout Error:\",errt)\n",
    "        except requests.exceptions.RequestException as err:\n",
    "            print (\"OOps: Something Else\",err)\n",
    "                    \n",
    "        trial_data = requests.get(url_loo).json()\n",
    "\n",
    "        #save the dataset to .json file and make the data looks nice\n",
    "        with open('trial2_data.json', 'w', encoding = 'utf-8') as f:\n",
    "            json.dump(trial_data,f, ensure_ascii=False, indent = 4)\n",
    "    \n",
    "        trial_df = pd.read_json('trial2_data.json')\n",
    "        #algorithm for each value        \n",
    "        trial_df['PVgen'] = trial_df.Ppv1+trial_df.Ppv2+trial_df.PmeterDc\n",
    "        trial_df['LOAD'] = trial_df.PrealL1+trial_df.PrealL1+trial_df.PrealL1+trial_df.PmeterL1+trial_df.PmeterL2+trial_df.PmeterL3+trial_df.PmeterDc  \n",
    "        trial_df['FN'] =trial_df.PmeterL1+trial_df.PmeterL2+trial_df.PmeterL3\n",
    "        trial_df['FEEDIN'] = np.where(trial_df.FN>0, 0, trial_df['FN'].abs())\n",
    "        trial_df['GridCon'] = np.where(trial_df.FN<100, 0, trial_df.FN)\n",
    "        \n",
    "        df = trial_df[['Sn','UploadTime','PVgen','LOAD','FEEDIN','GridCon']]\n",
    "        #print(df)\n",
    "        \n",
    "        #save the data to CSV\n",
    "        with open('trial_output_v4.csv','a') as fd:\n",
    "            df.to_csv(fd, header=False)\n",
    "                \n",
    "        #Once the the endtime is greater than limittime, the loop will break\n",
    "        if endtime >= limittime:\n",
    "            print('NEXT SN')\n",
    "            break\n",
    "            \n",
    "else:\n",
    "    print('Loop Done')\n"
   ]
  },
  {
   "cell_type": "code",
   "execution_count": null,
   "metadata": {},
   "outputs": [],
   "source": []
  }
 ],
 "metadata": {
  "kernelspec": {
   "display_name": "Python 3",
   "language": "python",
   "name": "python3"
  },
  "language_info": {
   "codemirror_mode": {
    "name": "ipython",
    "version": 3
   },
   "file_extension": ".py",
   "mimetype": "text/x-python",
   "name": "python",
   "nbconvert_exporter": "python",
   "pygments_lexer": "ipython3",
   "version": "3.6.8"
  }
 },
 "nbformat": 4,
 "nbformat_minor": 2
}
